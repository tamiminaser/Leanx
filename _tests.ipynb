{
 "cells": [
  {
   "cell_type": "code",
   "execution_count": 2,
   "id": "novel-shuttle",
   "metadata": {
    "scrolled": true
   },
   "outputs": [],
   "source": [
    "import os\n",
    "from dotenv import load_dotenv\n",
    "import MySQLdb\n",
    "load_dotenv()\n",
    "\n",
    "db_connection= MySQLdb.connect(host=os.getenv('MYSQL_HOST'), port=int(os.getenv('MYSQL_PORT')), user=os.getenv('MYSQL_USER'), passwd=os.getenv('MYSQL_PASSWORD'), db=os.getenv('MYSQL_DB'))\n",
    "cursor = db_connection.cursor()\n",
    "cursor.execute('SELECT profile.name, profile.profile_pic, messages.message, messages.time_stamp FROM messages JOIN profile ON messages.user_id = profile.user_id;')\n",
    "data = cursor.fetchall()"
   ]
  },
  {
   "cell_type": "code",
   "execution_count": 3,
   "id": "impossible-unemployment",
   "metadata": {
    "scrolled": true
   },
   "outputs": [
    {
     "data": {
      "text/plain": [
       "(('Naser',\n",
       "  'img/naser.jfif',\n",
       "  'Today is a good day',\n",
       "  datetime.datetime(2021, 3, 31, 22, 13, 48)),\n",
       " ('Emma',\n",
       "  'img/emma.jfif',\n",
       "  'Happy Wednesday to all.',\n",
       "  datetime.datetime(2021, 3, 31, 22, 14, 43)))"
      ]
     },
     "execution_count": 3,
     "metadata": {},
     "output_type": "execute_result"
    }
   ],
   "source": [
    "data"
   ]
  },
  {
   "cell_type": "code",
   "execution_count": null,
   "id": "controlled-tournament",
   "metadata": {},
   "outputs": [],
   "source": []
  }
 ],
 "metadata": {
  "kernelspec": {
   "display_name": "Python 3",
   "language": "python",
   "name": "python3"
  },
  "language_info": {
   "codemirror_mode": {
    "name": "ipython",
    "version": 3
   },
   "file_extension": ".py",
   "mimetype": "text/x-python",
   "name": "python",
   "nbconvert_exporter": "python",
   "pygments_lexer": "ipython3",
   "version": "3.7.0"
  }
 },
 "nbformat": 4,
 "nbformat_minor": 5
}
